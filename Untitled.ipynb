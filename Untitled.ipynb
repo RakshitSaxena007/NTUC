{
 "cells": [
  {
   "cell_type": "code",
   "execution_count": 1,
   "id": "da347f94",
   "metadata": {},
   "outputs": [],
   "source": [
    "import openpyxl"
   ]
  },
  {
   "cell_type": "code",
   "execution_count": null,
   "id": "013e785c",
   "metadata": {},
   "outputs": [],
   "source": [
    "openpyxl.load_workbook(\"//User//rakshitsaxena//Documents//Book2.xlsx\")"
   ]
  }
 ],
 "metadata": {
  "kernelspec": {
   "display_name": "Python 3 (ipykernel)",
   "language": "python",
   "name": "python3"
  },
  "language_info": {
   "codemirror_mode": {
    "name": "ipython",
    "version": 3
   },
   "file_extension": ".py",
   "mimetype": "text/x-python",
   "name": "python",
   "nbconvert_exporter": "python",
   "pygments_lexer": "ipython3",
   "version": "3.9.13"
  }
 },
 "nbformat": 4,
 "nbformat_minor": 5
}
